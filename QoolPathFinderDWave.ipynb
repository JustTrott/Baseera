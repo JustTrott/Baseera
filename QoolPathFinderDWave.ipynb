{
 "cells": [
  {
   "cell_type": "code",
   "execution_count": 59,
   "metadata": {},
   "outputs": [
    {
     "data": {
      "image/png": "[encoded data removed]",
      "text/plain": [
       "<Figure size 640x480 with 1 Axes>"
      ]
     },
     "metadata": {},
     "output_type": "display_data"
    }
   ],
   "source": [
    "import networkx as nx\n",
    "import numpy as np\n",
    "import matplotlib.pyplot as plt\n",
    "\n",
    "# Create a new graph\n",
    "G = nx.Graph()\n",
    "\n",
    "# Add nodes\n",
    "G.add_node(0, pos=(0, 1))\n",
    "G.add_node(1, pos=(1, 1))\n",
    "G.add_node(2, pos=(1, 0))\n",
    "G.add_node(3, pos=(0, 0))\n",
    "\n",
    "# Add edges with weights\n",
    "G.add_edge(0, 1, weight=5)\n",
    "G.add_edge(0, 3, weight=3)\n",
    "G.add_edge(1, 2, weight=4)\n",
    "G.add_edge(2, 3, weight=1)\n",
    "G.add_edge(1, 3, weight=2)\n",
    "\n",
    "G = nx.DiGraph(G)\n",
    "\n",
    "# Specify the weights as labels\n",
    "edge_labels = {(i, j): w['weight'] for i, j, w in G.edges(data=True)}\n",
    "\n",
    "# Get the positions\n",
    "pos = nx.get_node_attributes(G, 'pos')\n",
    "\n",
    "# Draw the graph\n",
    "nx.draw(G, pos, with_labels=True, node_size=700, edge_color='k', linewidths=1, font_size=15)\n",
    "\n",
    "# Draw edge labels\n",
    "nx.draw_networkx_edge_labels(G, pos, edge_labels=edge_labels, font_color='red')\n",
    "\n",
    "# Show plot\n",
    "plt.show()\n"
   ]
  },
  {
   "cell_type": "code",
   "execution_count": 44,
   "metadata": {},
   "outputs": [],
   "source": [
    "from dimod import BQM\n",
    "def sp_objective(bqm: BQM, G: nx.DiGraph):\n",
    "    # c_0 * x_0 + c_1 * x_1 + ... + c_n * x_n\n",
    "    for u, v in G.edges():\n",
    "        bqm.add_linear(f\"x_{u}_{v}\", G[u][v]['weight']) # 2*x_0_1 + ...\n",
    "    return bqm\n",
    "\n",
    "def sp_constraint(bqm: BQM, G: nx.DiGraph, s: int, e: int):\n",
    "    \n",
    "    c = []\n",
    "    for u, v in G.out_edges(s):\n",
    "        c.append((f\"x_{u}_{v}\", 1))\n",
    "    print(c)\n",
    "    bqm.add_linear_equality_constraint(c, constant=-1, lagrange_multiplier=50)\n",
    "    \n",
    "    c = []\n",
    "    for u, v in G.in_edges(s):\n",
    "        c.append((f\"x_{u}_{v}\", 1))\n",
    "    print(c)\n",
    "    bqm.add_linear_equality_constraint(c, constant=0, lagrange_multiplier=50)\n",
    "    \n",
    "    c = []\n",
    "    for u, v in G.in_edges(e):\n",
    "        c.append((f\"x_{u}_{v}\", 1))\n",
    "    bqm.add_linear_equality_constraint(c, constant=-1, lagrange_multiplier=50)\n",
    "    \n",
    "    c = []\n",
    "    for u, v in G.out_edges(e):\n",
    "        c.append((f\"x_{u}_{v}\", 1))\n",
    "    \n",
    "    bqm.add_linear_equality_constraint(c, constant=0, lagrange_multiplier=50)\n",
    "    for node in G.nodes():\n",
    "        c = []\n",
    "        if node == s or node == e:\n",
    "            continue\n",
    "\n",
    "        for u, v in G.out_edges(node):\n",
    "            c.append((f\"x_{u}_{v}\", 1))\n",
    "        for u, v in G.in_edges(node):\n",
    "            c.append((f\"x_{u}_{v}\", -1))\n",
    "        \n",
    "        L = sum([G[u][v]['weight'] for u, v in G.edges()])\n",
    "        bqm.add_linear_equality_constraint(c, constant=0, lagrange_multiplier=50)\n",
    "        \n",
    "    return bqm"
   ]
  },
  {
   "cell_type": "code",
   "execution_count": 45,
   "metadata": {},
   "outputs": [],
   "source": [
    "from neal import SimulatedAnnealingSampler\n",
    "\n",
    "def anneal(bqm, num_reads):\n",
    "    sampler = SimulatedAnnealingSampler()\n",
    "    sampleset = sampler.sample(bqm, num_reads=num_reads)\n",
    "    return sampleset"
   ]
  },
  {
   "cell_type": "code",
   "execution_count": 46,
   "metadata": {},
   "outputs": [],
   "source": [
    "def sp_solution(num_reads, G: nx.DiGraph, start: int, end: int):\n",
    "    \n",
    "    bqm = BQM(\"BINARY\")\n",
    "    bqm = sp_objective(bqm, G)\n",
    "    bqm = sp_constraint(bqm, G, start, end)\n",
    "\n",
    "    sampleset = anneal(bqm, num_reads)\n",
    "\n",
    "    solution = (None, None)\n",
    "    for sol in sampleset.data(fields=[\"sample\", \"energy\"]):\n",
    "        solution = sol\n",
    "        break\n",
    "    # Do not modify anything below this line\n",
    "    return solution, bqm"
   ]
  },
  {
   "cell_type": "code",
   "execution_count": 47,
   "metadata": {},
   "outputs": [
    {
     "name": "stdout",
     "output_type": "stream",
     "text": [
      "[('x_3_0', 1), ('x_3_4', 1), ('x_3_1', 1)]\n",
      "[('x_0_3', 1), ('x_1_3', 1), ('x_4_3', 1)]\n"
     ]
    },
    {
     "name": "stdout",
     "output_type": "stream",
     "text": [
      "Sample(sample={'x_0_1': 0, 'x_0_3': 0, 'x_1_0': 0, 'x_1_3': 0, 'x_1_4': 0, 'x_3_0': 0, 'x_3_1': 1, 'x_3_4': 0, 'x_4_1': 0, 'x_4_3': 0}, energy=2.0)\n"
     ]
    }
   ],
   "source": [
    "ans, bqm = sp_solution(1000, G, 3, 1)\n",
    "print(ans)"
   ]
  },
  {
   "cell_type": "code",
   "execution_count": 48,
   "metadata": {},
   "outputs": [
    {
     "data": {
      "image/png": "[encoded data removed]",
      "text/plain": [
       "<Figure size 640x480 with 1 Axes>"
      ]
     },
     "metadata": {},
     "output_type": "display_data"
    }
   ],
   "source": [
    "ans[0]\n",
    "edge_colors = []\n",
    "for u, v in G.edges():\n",
    "    if ans[0][f'x_{u}_{v}'] == 1 and ans[0][f'x_{v}_{u}'] == 1:\n",
    "        edge_colors.append('blue')\n",
    "    elif ans[0][f'x_{u}_{v}'] == 1:\n",
    "        edge_colors.append('red')\n",
    "    elif ans[0][f'x_{v}_{u}'] == 1:\n",
    "        edge_colors.append('green')\n",
    "    else:\n",
    "        edge_colors.append('black')\n",
    "    # print(u, v, ans[0][f'x_{u}_{v}'])\n",
    "pos = nx.get_node_attributes(G, 'pos')\n",
    "nx.draw(G, pos, with_labels=True, edge_color=edge_colors, node_size=700, font_size=15)\n",
    "labels = nx.get_edge_attributes(G, 'weight')\n",
    "nx.draw_networkx_edge_labels(G, pos, edge_labels=labels)\n",
    "plt.show()"
   ]
  },
  {
   "cell_type": "code",
   "execution_count": 49,
   "metadata": {},
   "outputs": [
    {
     "name": "stdout",
     "output_type": "stream",
     "text": [
      "{('x_0_3', 'x_0_1'): 100.0, ('x_1_0', 'x_0_1'): -100.0, ('x_1_0', 'x_0_3'): -100.0, ('x_1_4', 'x_1_0'): 100.0, ('x_1_3', 'x_0_3'): 100.0, ('x_1_3', 'x_1_0'): 100.0, ('x_1_3', 'x_1_4'): 100.0, ('x_3_0', 'x_0_1'): -100.0, ('x_3_0', 'x_0_3'): -100.0, ('x_3_0', 'x_1_0'): 100.0, ('x_3_4', 'x_1_4'): 100.0, ('x_3_4', 'x_3_0'): 100.0, ('x_3_1', 'x_0_1'): 100.0, ('x_3_1', 'x_3_0'): 100.0, ('x_3_1', 'x_3_4'): 100.0, ('x_4_1', 'x_0_1'): 100.0, ('x_4_1', 'x_1_4'): -100.0, ('x_4_1', 'x_3_4'): -100.0, ('x_4_1', 'x_3_1'): 100.0, ('x_4_3', 'x_0_3'): 100.0, ('x_4_3', 'x_1_4'): -100.0, ('x_4_3', 'x_1_3'): 100.0, ('x_4_3', 'x_3_4'): -100.0, ('x_4_3', 'x_4_1'): 100.0, ('x_0_1', 'x_0_1'): 5.0, ('x_0_3', 'x_0_3'): 103.0, ('x_1_0', 'x_1_0'): 105.0, ('x_1_4', 'x_1_4'): 104.0, ('x_1_3', 'x_1_3'): 102.0, ('x_3_0', 'x_3_0'): 3.0, ('x_3_4', 'x_3_4'): 1.0, ('x_3_1', 'x_3_1'): -98.0, ('x_4_1', 'x_4_1'): 4.0, ('x_4_3', 'x_4_3'): 101.0}\n",
      "Problem name: \n",
      "\n",
      "Minimize\n",
      "  100*x_0_3*x_0_1 - 100*x_0_3*x_1_0 + 100*x_0_3*x_1_3 - 100*x_0_3*x_3_0\n",
      "  + 100*x_0_3*x_4_3 - 100*x_1_0*x_0_1 + 100*x_1_0*x_1_3 + 100*x_1_4*x_1_0\n",
      "  + 100*x_1_4*x_1_3 - 100*x_3_0*x_0_1 + 100*x_3_0*x_1_0 + 100*x_3_0*x_3_1\n",
      "  + 100*x_3_0*x_3_4 + 100*x_3_1*x_0_1 + 100*x_3_4*x_1_4 + 100*x_3_4*x_3_1\n",
      "  - 100*x_3_4*x_4_3 + 100*x_4_1*x_0_1 - 100*x_4_1*x_1_4 + 100*x_4_1*x_3_1\n",
      "  - 100*x_4_1*x_3_4 + 100*x_4_1*x_4_3 + 100*x_4_3*x_1_3 - 100*x_4_3*x_1_4\n",
      "  + 5*x_0_1 + 103*x_0_3 + 105*x_1_0 + 102*x_1_3 + 104*x_1_4 + 3*x_3_0 - 98*x_3_1\n",
      "  + x_3_4 + 4*x_4_1 + 101*x_4_3 + 100\n",
      "\n",
      "Subject to\n",
      "  No constraints\n",
      "\n",
      "  Binary variables (10)\n",
      "    x_4_1 x_0_3 x_3_0 x_3_4 x_4_3 x_1_4 x_3_1 x_1_0 x_1_3 x_0_1\n",
      "\n"
     ]
    }
   ],
   "source": [
    "from qiskit_optimization import QuadraticProgram\n",
    "\n",
    "# Create a Quadratic Program\n",
    "qp = QuadraticProgram()\n",
    "qubo, offset = bqm.to_qubo()\n",
    "\n",
    "print(qubo)\n",
    "variables = set()\n",
    "for (var1, var2), _ in qubo.items():\n",
    "    variables.add(var1)\n",
    "    variables.add(var2)\n",
    "for var in variables:\n",
    "    qp.binary_var(var)\n",
    "\n",
    "# Define the quadratic and linear terms from the QUBO\n",
    "linear = {}\n",
    "quadratic = {}\n",
    "for (var1, var2), weight in qubo.items():\n",
    "    if var1 == var2:\n",
    "        linear[var1] = weight\n",
    "    else:\n",
    "        quadratic[(var1, var2)] = weight\n",
    "\n",
    "# Set the constant offset\n",
    "qp.minimize(linear=linear, quadratic=quadratic, constant=offset)\n",
    "print(qp.prettyprint())"
   ]
  },
  {
   "cell_type": "code",
   "execution_count": 50,
   "metadata": {},
   "outputs": [],
   "source": [
    "from qiskit_algorithms.utils import algorithm_globals\n",
    "from qiskit_algorithms import QAOA, NumPyMinimumEigensolver\n",
    "from qiskit_algorithms.optimizers import COBYLA\n",
    "from qiskit.primitives import Sampler\n",
    "from qiskit_optimization.algorithms import (\n",
    "    MinimumEigenOptimizer,\n",
    ")"
   ]
  },
  {
   "cell_type": "code",
   "execution_count": 51,
   "metadata": {},
   "outputs": [],
   "source": [
    "algorithm_globals.random_seed = 10598\n",
    "qaoa_mes = QAOA(sampler=Sampler(), optimizer=COBYLA(), initial_point=[0.0, 0.0])\n",
    "exact_mes = NumPyMinimumEigensolver()\n",
    "qaoa = MinimumEigenOptimizer(qaoa_mes)  # using QAOA\n",
    "exact = MinimumEigenOptimizer(exact_mes)  # using the exact classical numpy minimum eigen solver"
   ]
  },
  {
   "cell_type": "code",
   "execution_count": 52,
   "metadata": {},
   "outputs": [
    {
     "name": "stdout",
     "output_type": "stream",
     "text": [
      "objective function value: 2.0\n",
      "variable values: x_4_1=0.0, x_0_3=0.0, x_3_0=0.0, x_3_4=0.0, x_4_3=0.0, x_1_4=0.0, x_3_1=1.0, x_1_0=0.0, x_1_3=0.0, x_0_1=0.0\n",
      "status: SUCCESS\n"
     ]
    }
   ],
   "source": [
    "exact_result = exact.solve(qp)\n",
    "print(exact_result.prettyprint())"
   ]
  },
  {
   "cell_type": "code",
   "execution_count": 55,
   "metadata": {},
   "outputs": [
    {
     "name": "stdout",
     "output_type": "stream",
     "text": [
      "objective function value: 2.0\n",
      "variable values: x_4_1=0.0, x_0_3=0.0, x_3_0=0.0, x_3_4=0.0, x_4_3=0.0, x_1_4=0.0, x_3_1=1.0, x_1_0=0.0, x_1_3=0.0, x_0_1=0.0\n",
      "status: SUCCESS\n"
     ]
    }
   ],
   "source": [
    "qaoa_result = qaoa.solve(qp)\n",
    "print(qaoa_result.prettyprint())"
   ]
  },
  {
   "cell_type": "code",
   "execution_count": 56,
   "metadata": {},
   "outputs": [
    {
     "data": {
      "image/png": "[encoded data removed]",
      "text/plain": [
       "<Figure size 640x480 with 1 Axes>"
      ]
     },
     "metadata": {},
     "output_type": "display_data"
    }
   ],
   "source": [
    "ans[0]\n",
    "edge_colors = []\n",
    "for u, v in G.edges():\n",
    "    if qaoa_result.variables_dict[f'x_{u}_{v}'] == 1 and qaoa_result.variables_dict[f'x_{v}_{u}'] == 1:\n",
    "        edge_colors.append('blue')\n",
    "    elif qaoa_result.variables_dict[f'x_{u}_{v}'] == 1:\n",
    "        edge_colors.append('red')\n",
    "    elif qaoa_result.variables_dict[f'x_{v}_{u}'] == 1:\n",
    "        edge_colors.append('green')\n",
    "    else:\n",
    "        edge_colors.append('black')\n",
    "    # print(u, v, ans[0][f'x_{u}_{v}'])\n",
    "pos = nx.get_node_attributes(G, 'pos')  # positions for all nodes\n",
    "nx.draw(G, pos, with_labels=True, edge_color=edge_colors, node_size=700, font_size=15)\n",
    "labels = nx.get_edge_attributes(G, 'weight')\n",
    "nx.draw_networkx_edge_labels(G, pos, edge_labels=labels)\n",
    "plt.show()"
   ]
  }
 ],
 "metadata": {
  "kernelspec": {
   "display_name": "qworldvenv",
   "language": "python",
   "name": "python3"
  },
  "language_info": {
   "codemirror_mode": {
    "name": "ipython",
    "version": 3
   },
   "file_extension": ".py",
   "mimetype": "text/x-python",
   "name": "python",
   "nbconvert_exporter": "python",
   "pygments_lexer": "ipython3",
   "version": "3.8.10"
  }
 },
 "nbformat": 4,
 "nbformat_minor": 2
}
